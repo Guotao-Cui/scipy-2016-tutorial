{
 "metadata": {
  "name": "Advanced Expression Manipulation"
 },
 "nbformat": 3,
 "nbformat_minor": 0,
 "worksheets": [
  {
   "cells": [
    {
     "cell_type": "heading",
     "level": 1,
     "metadata": {},
     "source": [
      "Advanced Expression Manipulation"
     ]
    },
    {
     "cell_type": "code",
     "collapsed": false,
     "input": [
      "import sys\n",
      "import os\n",
      "sys.path.insert(1, os.path.join(os.path.pardir, \"ipython_doctester\"))\n",
      "from sympy import *\n",
      "from ipython_doctester import test\n",
      "x, y, z = symbols('x y z')"
     ],
     "language": "python",
     "metadata": {},
     "outputs": [],
     "prompt_number": 1
    },
    {
     "cell_type": "markdown",
     "metadata": {},
     "source": [
      "For each exercise, fill in the function according to its docstring. Execute the cell to see if you did it right. "
     ]
    },
    {
     "cell_type": "heading",
     "level": 2,
     "metadata": {},
     "source": [
      "Creating expressions from classes"
     ]
    },
    {
     "cell_type": "markdown",
     "metadata": {},
     "source": [
      "Create the following objects without using any mathematical operators like `+`, `-`, `*`, `/`, or `**` by explicitly using the classes `Add`, `Mul`, and `Pow`.  You may use `x` instead of `Symbol('x')` and `4` instead of `Integer(4)`.\n",
      "\n",
      "$$x^2 + 4xyz$$\n",
      "$$x^{(x^y)}$$\n",
      "$$x - \\frac{y}{z}$$\n"
     ]
    },
    {
     "cell_type": "code",
     "collapsed": false,
     "input": [
      "@test\n",
      "def explicit_classes1():\n",
      "    \"\"\"\n",
      "    Returns the expression x**2 + 4*x*y*z, built using SymPy classes explicitly.\n",
      "\n",
      "    >>> explicit_classes1()\n",
      "    x**2 + 4*x*y*z\n",
      "    \"\"\"\n",
      "    return Add(Pow(x, 2), Mul(4, x, y, z))"
     ],
     "language": "python",
     "metadata": {},
     "outputs": [
      {
       "html": [
        "\n",
        "      <p style=\"color:green;font-size:250%;font-weight=bold\">Success!</p>\n",
        "      "
       ],
       "output_type": "display_data"
      }
     ],
     "prompt_number": 3
    },
    {
     "cell_type": "code",
     "collapsed": false,
     "input": [
      "@test\n",
      "def explicit_classes2():\n",
      "    \"\"\"\n",
      "    Returns the expression x**(x**y), built using SymPy classes explicitly.\n",
      "\n",
      "    >>> explicit_classes2()\n",
      "    x**(x**y)\n",
      "    \"\"\"\n",
      "    return Pow(x, Pow(x, y))"
     ],
     "language": "python",
     "metadata": {},
     "outputs": [
      {
       "html": [
        "\n",
        "      <p style=\"color:green;font-size:250%;font-weight=bold\">Success!</p>\n",
        "      "
       ],
       "output_type": "display_data"
      }
     ],
     "prompt_number": 4
    },
    {
     "cell_type": "code",
     "collapsed": false,
     "input": [
      "@test\n",
      "def explicit_classes3():\n",
      "    \"\"\"\n",
      "    Returns the expression x - y/z, built using SymPy classes explicitly.\n",
      "\n",
      "    >>> explicit_classes3()\n",
      "    x - y/z\n",
      "    \"\"\"\n",
      "    return Add(x, Mul(-1, Mul(y, Pow(z, -1))))"
     ],
     "language": "python",
     "metadata": {},
     "outputs": [
      {
       "html": [
        "\n",
        "      <p style=\"color:green;font-size:250%;font-weight=bold\">Success!</p>\n",
        "      "
       ],
       "output_type": "display_data"
      }
     ],
     "prompt_number": 7
    },
    {
     "cell_type": "markdown",
     "metadata": {},
     "source": [
      "Answer"
     ]
    },
    {
     "cell_type": "code",
     "collapsed": false,
     "input": [
      "Add(Pow(x, 2), Mul(4, x, y, z))"
     ],
     "language": "python",
     "metadata": {},
     "outputs": [
      {
       "output_type": "pyout",
       "prompt_number": 10,
       "text": [
        "x**2 + 4*x*y*z"
       ]
      }
     ],
     "prompt_number": 10
    },
    {
     "cell_type": "code",
     "collapsed": false,
     "input": [
      "Pow(x, Pow(x, y))"
     ],
     "language": "python",
     "metadata": {},
     "outputs": [
      {
       "output_type": "pyout",
       "prompt_number": 11,
       "text": [
        "x**(x**y)"
       ]
      }
     ],
     "prompt_number": 11
    },
    {
     "cell_type": "code",
     "collapsed": false,
     "input": [
      "Add(x, Mul(-1, Mul(y, Pow(z, -1))))"
     ],
     "language": "python",
     "metadata": {},
     "outputs": [
      {
       "output_type": "pyout",
       "prompt_number": 12,
       "text": [
        "x - y/z"
       ]
      }
     ],
     "prompt_number": 12
    },
    {
     "cell_type": "heading",
     "level": 2,
     "metadata": {},
     "source": [
      "Nested args"
     ]
    },
    {
     "cell_type": "code",
     "collapsed": false,
     "input": [
      "expr = x**2 - y*(2**(x + 3) + z)"
     ],
     "language": "python",
     "metadata": {},
     "outputs": [],
     "prompt_number": 3
    },
    {
     "cell_type": "markdown",
     "metadata": {},
     "source": [
      "Use nested `.args` calls to get the 3 in expr."
     ]
    },
    {
     "cell_type": "code",
     "collapsed": false,
     "input": [
      "@test\n",
      "def nested_args():\n",
      "    \"\"\"\n",
      "    Get the 3 in the above expression.\n",
      "\n",
      "    >>> nested_args()\n",
      "    3\n",
      "    \"\"\"\n",
      "    expr = x**2 - y*(2**(x + 3) + z)\n",
      "    return expr.args[0].args[2].args[0].args[1].args[0]"
     ],
     "language": "python",
     "metadata": {},
     "outputs": [
      {
       "html": [
        "\n",
        "      <p style=\"color:green;font-size:250%;font-weight=bold\">Success!</p>\n",
        "      "
       ],
       "output_type": "display_data"
      }
     ],
     "prompt_number": 9
    },
    {
     "cell_type": "markdown",
     "metadata": {},
     "source": [
      "Answer"
     ]
    },
    {
     "cell_type": "code",
     "collapsed": false,
     "input": [
      "expr.args[0].args[2].args[0].args[1].args[0]"
     ],
     "language": "python",
     "metadata": {},
     "outputs": [
      {
       "output_type": "pyout",
       "prompt_number": 4,
       "text": [
        "3"
       ]
      }
     ],
     "prompt_number": 4
    },
    {
     "cell_type": "heading",
     "level": 2,
     "metadata": {},
     "source": [
      "Traversal "
     ]
    },
    {
     "cell_type": "markdown",
     "metadata": {},
     "source": [
      "Write a post-order traversal function that prints each node."
     ]
    },
    {
     "cell_type": "code",
     "collapsed": false,
     "input": [
      "@test\n",
      "def post(expr):\n",
      "    \"\"\"\n",
      "    Post-order traversal\n",
      "\n",
      "    >>> expr = x**2 - y*(2**(x + 3) + z)\n",
      "    >>> post(expr)\n",
      "    -1\n",
      "    y\n",
      "    2\n",
      "    3\n",
      "    x\n",
      "    x + 3\n",
      "    2**(x + 3)\n",
      "    z\n",
      "    2**(x + 3) + z\n",
      "    -y*(2**(x + 3) + z)\n",
      "    x\n",
      "    2\n",
      "    x**2\n",
      "    x**2 - y*(2**(x + 3) + z)\n",
      "    \"\"\"\n",
      "    for arg in expr.args:\n",
      "        post(arg)\n",
      "    print expr"
     ],
     "language": "python",
     "metadata": {},
     "outputs": [
      {
       "html": [
        "\n",
        "      <p style=\"color:green;font-size:250%;font-weight=bold\">Success!</p>\n",
        "      "
       ],
       "output_type": "display_data"
      }
     ],
     "prompt_number": 10
    },
    {
     "cell_type": "markdown",
     "metadata": {},
     "source": [
      "Answer"
     ]
    },
    {
     "cell_type": "code",
     "collapsed": false,
     "input": [
      "def post(expr):\n",
      "    for arg in expr.args:\n",
      "        post(arg)\n",
      "    print expr"
     ],
     "language": "python",
     "metadata": {},
     "outputs": [],
     "prompt_number": 7
    },
    {
     "cell_type": "code",
     "collapsed": false,
     "input": [
      "post(expr)"
     ],
     "language": "python",
     "metadata": {},
     "outputs": [
      {
       "output_type": "stream",
       "stream": "stdout",
       "text": [
        "-1\n",
        "y\n",
        "2\n",
        "3\n",
        "x\n",
        "x + 3\n",
        "2**(x + 3)\n",
        "z\n",
        "2**(x + 3) + z\n",
        "-y*(2**(x + 3) + z)\n",
        "x\n",
        "2\n",
        "x**2\n",
        "x**2 - y*(2**(x + 3) + z)\n"
       ]
      }
     ],
     "prompt_number": 8
    },
    {
     "cell_type": "code",
     "collapsed": false,
     "input": [
      "for i in postorder_traversal(expr):\n",
      "    print i"
     ],
     "language": "python",
     "metadata": {},
     "outputs": [
      {
       "output_type": "stream",
       "stream": "stdout",
       "text": [
        "-1\n",
        "y\n",
        "2\n",
        "3\n",
        "x\n",
        "x + 3\n",
        "2**(x + 3)\n",
        "z\n",
        "2**(x + 3) + z\n",
        "-y*(2**(x + 3) + z)\n",
        "x\n",
        "2\n",
        "x**2\n",
        "x**2 - y*(2**(x + 3) + z)\n"
       ]
      }
     ],
     "prompt_number": 9
    },
    {
     "cell_type": "code",
     "collapsed": false,
     "input": [],
     "language": "python",
     "metadata": {},
     "outputs": []
    }
   ],
   "metadata": {}
  }
 ]
}
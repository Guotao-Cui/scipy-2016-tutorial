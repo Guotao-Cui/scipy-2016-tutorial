{
 "cells": [
  {
   "cell_type": "markdown",
   "metadata": {},
   "source": [
    "# Special Series"
   ]
  },
  {
   "cell_type": "code",
   "execution_count": 1,
   "metadata": {
    "collapsed": true
   },
   "outputs": [],
   "source": [
    "from sympy import *\n",
    "init_printing()"
   ]
  },
  {
   "cell_type": "code",
   "execution_count": 2,
   "metadata": {
    "collapsed": true
   },
   "outputs": [],
   "source": [
    "x, t = symbols('x, t')"
   ]
  },
  {
   "cell_type": "markdown",
   "metadata": {},
   "source": [
    "SymPy can compute special series like formal power series and fourier series. This is a new feature released in SymPy 1.0\n",
    "\n",
    "Let's try computing formal power series of some basic functions."
   ]
  },
  {
   "cell_type": "code",
   "execution_count": 3,
   "metadata": {
    "collapsed": false
   },
   "outputs": [
    {
     "data": {
      "image/png": "[encoded data removed]",
      "text/latex": [
       "$$1 + x + \\frac{x^{2}}{2} + \\frac{x^{3}}{6} + \\frac{x^{4}}{24} + \\frac{x^{5}}{120} + \\mathcal{O}\\left(x^{6}\\right)$$"
      ],
      "text/plain": [
       "         2    3    4     5        \n",
       "        x    x    x     x     ⎛ 6⎞\n",
       "1 + x + ── + ── + ── + ─── + O⎝x ⎠\n",
       "        2    6    24   120        "
      ]
     },
     "execution_count": 3,
     "metadata": {},
     "output_type": "execute_result"
    }
   ],
   "source": [
    "exp_series = fps(exp(x), x)\n",
    "exp_series"
   ]
  },
  {
   "cell_type": "markdown",
   "metadata": {},
   "source": [
    "This looks very similar to what ``series`` has to offer, but unlike series a formal power series object returns an infinite expansion."
   ]
  },
  {
   "cell_type": "code",
   "execution_count": 4,
   "metadata": {
    "collapsed": false
   },
   "outputs": [
    {
     "data": {
      "text/latex": [
       "$$\\sum_{k=1}^{\\infty} \\begin{cases} \\frac{x^{k}}{k!} & \\text{for}\\: \\operatorname{Mod}{\\left (k,1 \\right )} = 0 \\\\0 & \\text{otherwise} \\end{cases} + 1$$"
      ],
      "text/plain": [
       "  ∞                              \n",
       "______                           \n",
       "╲                                \n",
       " ╲     ⎧ k                       \n",
       "  ╲    ⎪x                        \n",
       "   ╲   ⎪──  for Mod(k, 1) = 0    \n",
       "    ╲  ⎨k!                       \n",
       "    ╱  ⎪                      + 1\n",
       "   ╱   ⎪0       otherwise        \n",
       "  ╱    ⎩                         \n",
       " ╱                               \n",
       "╱                                \n",
       "‾‾‾‾‾‾                           \n",
       "k = 1                            "
      ]
     },
     "execution_count": 4,
     "metadata": {},
     "output_type": "execute_result"
    }
   ],
   "source": [
    "exp_series.infinite # Infinite representation"
   ]
  },
  {
   "cell_type": "markdown",
   "metadata": {},
   "source": [
    "We can easily find out any term of the expansion (no need to recompute the expansion)."
   ]
  },
  {
   "cell_type": "code",
   "execution_count": 5,
   "metadata": {
    "collapsed": false
   },
   "outputs": [
    {
     "data": {
      "image/png": "[encoded data removed]",
      "text/latex": [
       "$$\\frac{x^{51}}{1551118753287382280224243016469303211063259720016986112000000000000}$$"
      ],
      "text/plain": [
       "                                 51                                \n",
       "                                x                                  \n",
       "───────────────────────────────────────────────────────────────────\n",
       "1551118753287382280224243016469303211063259720016986112000000000000"
      ]
     },
     "execution_count": 5,
     "metadata": {},
     "output_type": "execute_result"
    }
   ],
   "source": [
    "exp_series.term(51) # equivalent to exp_series[51]"
   ]
  },
  {
   "cell_type": "code",
   "execution_count": 6,
   "metadata": {
    "collapsed": false
   },
   "outputs": [
    {
     "data": {
      "image/png": "[encoded data removed]",
      "text/latex": [
       "$$1 + x + \\frac{x^{2}}{2} + \\frac{x^{3}}{6} + \\frac{x^{4}}{24} + \\frac{x^{5}}{120} + \\frac{x^{6}}{720} + \\frac{x^{7}}{5040} + \\frac{x^{8}}{40320} + \\frac{x^{9}}{362880} + \\mathcal{O}\\left(x^{10}\\right)$$"
      ],
      "text/plain": [
       "         2    3    4     5     6     7       8       9           \n",
       "        x    x    x     x     x     x       x       x       ⎛ 10⎞\n",
       "1 + x + ── + ── + ── + ─── + ─── + ──── + ───── + ────── + O⎝x  ⎠\n",
       "        2    6    24   120   720   5040   40320   362880         "
      ]
     },
     "execution_count": 6,
     "metadata": {},
     "output_type": "execute_result"
    }
   ],
   "source": [
    "exp_series.truncate(10) # return a truncated series expansion"
   ]
  },
  {
   "cell_type": "markdown",
   "metadata": {},
   "source": [
    "# Exercise"
   ]
  },
  {
   "cell_type": "markdown",
   "metadata": {},
   "source": [
    "Try computing the formal power series of $log(1 + x)$. Try to look at the infinite representation. What is the 51st term in this case? Compute the expansion about 1."
   ]
  },
  {
   "cell_type": "code",
   "execution_count": null,
   "metadata": {
    "collapsed": true
   },
   "outputs": [],
   "source": [
    "log_series = fps(?)\n",
    "log_series"
   ]
  },
  {
   "cell_type": "code",
   "execution_count": null,
   "metadata": {
    "collapsed": true
   },
   "outputs": [],
   "source": [
    "# infinite representation\n"
   ]
  },
  {
   "cell_type": "code",
   "execution_count": null,
   "metadata": {
    "collapsed": true
   },
   "outputs": [],
   "source": [
    "# 51st term"
   ]
  },
  {
   "cell_type": "code",
   "execution_count": null,
   "metadata": {
    "collapsed": true
   },
   "outputs": [],
   "source": [
    "# expansion about 1"
   ]
  },
  {
   "cell_type": "markdown",
   "metadata": {},
   "source": [
    "# Fourier Series"
   ]
  },
  {
   "cell_type": "markdown",
   "metadata": {},
   "source": [
    "Fourier series for functions can be computed using ``fourier_series`` function.\n",
    "\n",
    "A sawtooth wave is defined as:\n",
    "    $$s(x) = x/\\pi \\in (-\\pi, \\pi)$$\n",
    "    $$s(x + 2k\\pi) = s(x) \\in (-\\infty, \\infty)$$\n",
    "    \n",
    "Let's compute the fourier series of the above defined wave."
   ]
  },
  {
   "cell_type": "code",
   "execution_count": 7,
   "metadata": {
    "collapsed": false
   },
   "outputs": [
    {
     "data": {
      "image/png": "[encoded data removed]",
      "text/latex": [
       "$$\\frac{2}{\\pi} \\sin{\\left (x \\right )} - \\frac{1}{\\pi} \\sin{\\left (2 x \\right )} + \\frac{2}{3 \\pi} \\sin{\\left (3 x \\right )} + \\ldots$$"
      ],
      "text/plain": [
       "2⋅sin(x)   sin(2⋅x)   2⋅sin(3⋅x)    \n",
       "──────── - ──────── + ────────── + …\n",
       "   π          π          3⋅π        "
      ]
     },
     "execution_count": 7,
     "metadata": {},
     "output_type": "execute_result"
    }
   ],
   "source": [
    "sawtooth_series = fourier_series(x / pi, (x, -pi, pi))\n",
    "sawtooth_series"
   ]
  },
  {
   "cell_type": "code",
   "execution_count": 8,
   "metadata": {
    "collapsed": false
   },
   "outputs": [
    {
     "data": {
      "image/png": "[encoded data removed]",
      "text/latex": [
       "$$\\frac{2}{51 \\pi} \\sin{\\left (51 x \\right )}$$"
      ],
      "text/plain": [
       "2⋅sin(51⋅x)\n",
       "───────────\n",
       "    51⋅π   "
      ]
     },
     "execution_count": 8,
     "metadata": {},
     "output_type": "execute_result"
    }
   ],
   "source": [
    "sawtooth_series[51]"
   ]
  },
  {
   "cell_type": "markdown",
   "metadata": {},
   "source": [
    "It is easy to shift and scale the series using ``shift`` and ``scale`` methods."
   ]
  },
  {
   "cell_type": "code",
   "execution_count": 9,
   "metadata": {
    "collapsed": false
   },
   "outputs": [
    {
     "data": {
      "image/png": "[encoded data removed]",
      "text/latex": [
       "$$\\frac{2}{\\pi} \\sin{\\left (x \\right )} - \\frac{1}{\\pi} \\sin{\\left (2 x \\right )} + \\frac{2}{3 \\pi} \\sin{\\left (3 x \\right )} - \\frac{1}{2 \\pi} \\sin{\\left (4 x \\right )} + 10$$"
      ],
      "text/plain": [
       "2⋅sin(x)   sin(2⋅x)   2⋅sin(3⋅x)   sin(4⋅x)     \n",
       "──────── - ──────── + ────────── - ──────── + 10\n",
       "   π          π          3⋅π         2⋅π        "
      ]
     },
     "execution_count": 9,
     "metadata": {},
     "output_type": "execute_result"
    }
   ],
   "source": [
    "sawtooth_series.shift(10).truncate(5)"
   ]
  },
  {
   "cell_type": "code",
   "execution_count": 10,
   "metadata": {
    "collapsed": false
   },
   "outputs": [
    {
     "data": {
      "image/png": "[encoded data removed]",
      "text/latex": [
       "$$\\frac{20}{\\pi} \\sin{\\left (x \\right )} - \\frac{10}{\\pi} \\sin{\\left (2 x \\right )} + \\frac{20}{3 \\pi} \\sin{\\left (3 x \\right )} - \\frac{5}{\\pi} \\sin{\\left (4 x \\right )} + \\frac{4}{\\pi} \\sin{\\left (5 x \\right )}$$"
      ],
      "text/plain": [
       "20⋅sin(x)   10⋅sin(2⋅x)   20⋅sin(3⋅x)   5⋅sin(4⋅x)   4⋅sin(5⋅x)\n",
       "───────── - ─────────── + ─────────── - ────────── + ──────────\n",
       "    π            π            3⋅π           π            π     "
      ]
     },
     "execution_count": 10,
     "metadata": {},
     "output_type": "execute_result"
    }
   ],
   "source": [
    "sawtooth_series.scale(10).truncate(5)"
   ]
  },
  {
   "cell_type": "markdown",
   "metadata": {},
   "source": [
    "# Exercise"
   ]
  },
  {
   "cell_type": "markdown",
   "metadata": {},
   "source": [
    "Consider a square wave defined over the range of (0, 1) as:\n",
    "    $$ f(t) = 1 \\in (0, 1/2] $$\n",
    "    $$ f(t) = -1 \\in (1/2, 1) $$\n",
    "    \n",
    "Try computing the fourier series of the above defined function."
   ]
  },
  {
   "cell_type": "code",
   "execution_count": null,
   "metadata": {
    "collapsed": true
   },
   "outputs": [],
   "source": [
    "square_wave = Piecewise(?)"
   ]
  },
  {
   "cell_type": "code",
   "execution_count": null,
   "metadata": {
    "collapsed": true
   },
   "outputs": [],
   "source": [
    "square_series = fourier_series(?)\n",
    "square_series"
   ]
  },
  {
   "cell_type": "markdown",
   "metadata": {},
   "source": [
    "# What next?"
   ]
  },
  {
   "cell_type": "markdown",
   "metadata": {},
   "source": [
    "Try some basic operations like addition, subtraction, etc on formal power series, fourier series and see what happens."
   ]
  }
 ],
 "metadata": {
  "kernelspec": {
   "display_name": "Python 2",
   "language": "python",
   "name": "python2"
  },
  "language_info": {
   "codemirror_mode": {
    "name": "ipython",
    "version": 2
   },
   "file_extension": ".py",
   "mimetype": "text/x-python",
   "name": "python",
   "nbconvert_exporter": "python",
   "pygments_lexer": "ipython2",
   "version": "2.7.11"
  }
 },
 "nbformat": 4,
 "nbformat_minor": 0
}

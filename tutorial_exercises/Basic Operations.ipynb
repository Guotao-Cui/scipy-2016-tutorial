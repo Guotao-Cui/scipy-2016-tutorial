{
 "metadata": {
  "name": "Basic Operations"
 },
 "nbformat": 3,
 "nbformat_minor": 0,
 "worksheets": [
  {
   "cells": [
    {
     "cell_type": "markdown",
     "metadata": {},
     "source": [
      "# Basic Operations"
     ]
    },
    {
     "cell_type": "markdown",
     "metadata": {},
     "source": [
      "Boilerplate to make the doctester work.  Run this cell first."
     ]
    },
    {
     "cell_type": "code",
     "collapsed": false,
     "input": [
      "import sys\n",
      "import os\n",
      "sys.path.insert(1, os.path.join(os.path.pardir, \"ipython_doctester\"))\n",
      "from sympy import *\n",
      "from ipython_doctester import test"
     ],
     "language": "python",
     "metadata": {},
     "outputs": [],
     "prompt_number": 1
    },
    {
     "cell_type": "markdown",
     "metadata": {},
     "source": [
      "For each exercise, fill in the function according to its docstring. Execute the cell to see if you did it right. "
     ]
    },
    {
     "cell_type": "markdown",
     "metadata": {},
     "source": [
      "## Substitution"
     ]
    },
    {
     "cell_type": "markdown",
     "metadata": {},
     "source": [
      "Write a function that takes a list of expressions, a variable, and a point, and evaluates each expression in the list at that point."
     ]
    },
    {
     "cell_type": "code",
     "collapsed": false,
     "input": [
      "@test\n",
      "def evaluate(exprs, x, x0):\n",
      "    \"\"\"\n",
      "    Evaluate each expression in exprs at the point x = x0.\n",
      "\n",
      "    >>> x, y = symbols('x y')\n",
      "    >>> exprs = [x**2, cos(x), x*y]\n",
      "    >>> evaluate(exprs, x, 1)\n",
      "    [1, cos(1), y]\n",
      "    >>> evaluate(exprs, y, 0)\n",
      "    [x**2, cos(x), 0]\n",
      "    \"\"\"\n",
      "    return [expr.subs(x, x0) for expr in exprs]"
     ],
     "language": "python",
     "metadata": {},
     "outputs": [
      {
       "html": [
        "\n",
        "      <p style=\"color:green;font-size:250%;font-weight=bold\">Success!</p>\n",
        "      "
       ],
       "output_type": "display_data"
      }
     ],
     "prompt_number": 8
    },
    {
     "cell_type": "markdown",
     "metadata": {},
     "source": [
      "Write a function that computes \n",
      "\n",
      "$$\n",
      "{\\underbrace{x^{{}^{.^{.^{.^x}}}}}_\\text{n copies of x}}\n",
      "$$\n",
      "\n",
      "That is, `x**(x**(...x))`, with `n` copys of `x`.  In [Knuth up-arrow notation](http://en.wikipedia.org/wiki/Up_arrow_notation), $x\\uparrow\\uparrow n$."
     ]
    },
    {
     "cell_type": "code",
     "collapsed": false,
     "input": [
      "@test\n",
      "def uparrow(x, n):\n",
      "    \"\"\"\n",
      "    Computes x**(x**(...x)), with n copys of x.\n",
      "\n",
      "    >>> x = symbols('x')\n",
      "    >>> uparrow(x, 3)\n",
      "    x**(x**x)\n",
      "    >>> uparrow(x, 1)\n",
      "    x\n",
      "    >>> uparrow(x**x, 3)\n",
      "    (x**x)**((x**x)**(x**x))\n",
      "    \"\"\"\n",
      "    expr = x\n",
      "    for i in range(n - 1):\n",
      "        expr = x**expr\n",
      "    return expr"
     ],
     "language": "python",
     "metadata": {},
     "outputs": [
      {
       "html": [
        "\n",
        "      <p style=\"color:green;font-size:250%;font-weight=bold\">Success!</p>\n",
        "      "
       ],
       "output_type": "display_data"
      }
     ],
     "prompt_number": 14
    },
    {
     "cell_type": "code",
     "collapsed": false,
     "input": [],
     "language": "python",
     "metadata": {},
     "outputs": []
    }
   ],
   "metadata": {}
  }
 ]
}
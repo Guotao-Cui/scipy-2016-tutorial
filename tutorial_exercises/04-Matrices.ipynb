{
 "metadata": {
  "name": "",
  "signature": "sha256:686fb4aa0a6db4ffb24f8fb2c898a13d8c60edda5fef9ab2ea277d3d8c011245"
 },
 "nbformat": 3,
 "nbformat_minor": 0,
 "worksheets": [
  {
   "cells": [
    {
     "cell_type": "code",
     "collapsed": false,
     "input": [
      "from sympy import *\n",
      "init_printing()\n",
      "x, y, z = symbols('x,y,z')\n",
      "r, theta = symbols('r,theta', positive=True)"
     ],
     "language": "python",
     "metadata": {},
     "outputs": [],
     "prompt_number": 51
    },
    {
     "cell_type": "markdown",
     "metadata": {},
     "source": [
      "## Matrices\n",
      "\n",
      "The SymPy `Matrix` object helps us with small problems in linear algebra."
     ]
    },
    {
     "cell_type": "code",
     "collapsed": false,
     "input": [
      "rot = Matrix([[r*cos(theta), -r*sin(theta)],\n",
      "              [r*sin(theta),  r*cos(theta)]])\n",
      "rot"
     ],
     "language": "python",
     "metadata": {},
     "outputs": [
      {
       "latex": [
        "$$\\left[\\begin{matrix}r \\cos{\\left (\\theta \\right )} & - r \\sin{\\left (\\theta \\right )}\\\\r \\sin{\\left (\\theta \\right )} & r \\cos{\\left (\\theta \\right )}\\end{matrix}\\right]$$"
       ],
       "metadata": {},
       "output_type": "pyout",
       "prompt_number": 61,
       "text": [
        "\u23a1r\u22c5cos(\u03b8)  -r\u22c5sin(\u03b8)\u23a4\n",
        "\u23a2                   \u23a5\n",
        "\u23a3r\u22c5sin(\u03b8)  r\u22c5cos(\u03b8) \u23a6"
       ]
      }
     ],
     "prompt_number": 61
    },
    {
     "cell_type": "markdown",
     "metadata": {},
     "source": [
      "### Standard methods"
     ]
    },
    {
     "cell_type": "code",
     "collapsed": false,
     "input": [
      "rot.det()"
     ],
     "language": "python",
     "metadata": {},
     "outputs": [
      {
       "latex": [
        "$$r^{2} \\sin^{2}{\\left (\\theta \\right )} + r^{2} \\cos^{2}{\\left (\\theta \\right )}$$"
       ],
       "metadata": {},
       "output_type": "pyout",
       "png": "[encoded data removed]",
       "prompt_number": 30,
       "text": [
        " 2    2       2    2   \n",
        "r \u22c5sin (\u03b8) + r \u22c5cos (\u03b8)"
       ]
      }
     ],
     "prompt_number": 30
    },
    {
     "cell_type": "code",
     "collapsed": false,
     "input": [
      "rot.inv()"
     ],
     "language": "python",
     "metadata": {},
     "outputs": [
      {
       "latex": [
        "$$\\left[\\begin{matrix}- \\frac{\\sin^{2}{\\left (\\theta \\right )}}{r \\cos{\\left (\\theta \\right )}} + \\frac{1}{r \\cos{\\left (\\theta \\right )}} & \\frac{1}{r} \\sin{\\left (\\theta \\right )}\\\\- \\frac{1}{r} \\sin{\\left (\\theta \\right )} & \\frac{1}{r} \\cos{\\left (\\theta \\right )}\\end{matrix}\\right]$$"
       ],
       "metadata": {},
       "output_type": "pyout",
       "prompt_number": 32,
       "text": [
        "\u23a1     2                       \u23a4\n",
        "\u23a2  sin (\u03b8)       1      sin(\u03b8)\u23a5\n",
        "\u23a2- \u2500\u2500\u2500\u2500\u2500\u2500\u2500\u2500 + \u2500\u2500\u2500\u2500\u2500\u2500\u2500\u2500  \u2500\u2500\u2500\u2500\u2500\u2500\u23a5\n",
        "\u23a2  r\u22c5cos(\u03b8)   r\u22c5cos(\u03b8)    r   \u23a5\n",
        "\u23a2                             \u23a5\n",
        "\u23a2      -sin(\u03b8)          cos(\u03b8)\u23a5\n",
        "\u23a2      \u2500\u2500\u2500\u2500\u2500\u2500\u2500\u2500         \u2500\u2500\u2500\u2500\u2500\u2500\u23a5\n",
        "\u23a3         r               r   \u23a6"
       ]
      }
     ],
     "prompt_number": 32
    },
    {
     "cell_type": "code",
     "collapsed": false,
     "input": [
      "rot.singular_values()"
     ],
     "language": "python",
     "metadata": {},
     "outputs": [
      {
       "latex": [
        "$$\\begin{bmatrix}r, & r\\end{bmatrix}$$"
       ],
       "metadata": {},
       "output_type": "pyout",
       "prompt_number": 24,
       "text": [
        "[r, r]"
       ]
      }
     ],
     "prompt_number": 24
    },
    {
     "cell_type": "code",
     "collapsed": false,
     "input": [
      "M = Matrix([[1, x], [y, 1]])\n",
      "print(latex(M))"
     ],
     "language": "python",
     "metadata": {},
     "outputs": [
      {
       "output_type": "stream",
       "stream": "stdout",
       "text": [
        "\\left[\\begin{matrix}1 & x\\\\y & 1\\end{matrix}\\right]\n"
       ]
      }
     ],
     "prompt_number": 58
    },
    {
     "cell_type": "markdown",
     "metadata": {},
     "source": [
      "### Exercise\n",
      "\n",
      "Find the inverse of the following Matrix:\n",
      "\n",
      "$$ \\left[\\begin{matrix}1 & x\\\\y & 1\\end{matrix}\\right] $$"
     ]
    },
    {
     "cell_type": "code",
     "collapsed": false,
     "input": [
      "# Create a matrix and use the `.inv` method to find the inverse\n",
      "\n"
     ],
     "language": "python",
     "metadata": {},
     "outputs": [],
     "prompt_number": 59
    },
    {
     "cell_type": "markdown",
     "metadata": {},
     "source": [
      "### Operators\n",
      "\n",
      "The standard SymPy operators work on matrices"
     ]
    },
    {
     "cell_type": "code",
     "collapsed": false,
     "input": [
      "rot * 2"
     ],
     "language": "python",
     "metadata": {},
     "outputs": [
      {
       "latex": [
        "$$\\left[\\begin{matrix}2 r \\cos{\\left (\\theta \\right )} & - 2 r \\sin{\\left (\\theta \\right )}\\\\2 r \\sin{\\left (\\theta \\right )} & 2 r \\cos{\\left (\\theta \\right )}\\end{matrix}\\right]$$"
       ],
       "metadata": {},
       "output_type": "pyout",
       "prompt_number": 64,
       "text": [
        "\u23a12\u22c5r\u22c5cos(\u03b8)  -2\u22c5r\u22c5sin(\u03b8)\u23a4\n",
        "\u23a2                       \u23a5\n",
        "\u23a32\u22c5r\u22c5sin(\u03b8)  2\u22c5r\u22c5cos(\u03b8) \u23a6"
       ]
      }
     ],
     "prompt_number": 64
    },
    {
     "cell_type": "code",
     "collapsed": false,
     "input": [
      "rot * rot"
     ],
     "language": "python",
     "metadata": {},
     "outputs": [
      {
       "latex": [
        "$$\\left[\\begin{matrix}- r^{2} \\sin^{2}{\\left (\\theta \\right )} + r^{2} \\cos^{2}{\\left (\\theta \\right )} & - 2 r^{2} \\sin{\\left (\\theta \\right )} \\cos{\\left (\\theta \\right )}\\\\2 r^{2} \\sin{\\left (\\theta \\right )} \\cos{\\left (\\theta \\right )} & - r^{2} \\sin^{2}{\\left (\\theta \\right )} + r^{2} \\cos^{2}{\\left (\\theta \\right )}\\end{matrix}\\right]$$"
       ],
       "metadata": {},
       "output_type": "pyout",
       "prompt_number": 66,
       "text": [
        "\u23a1   2    2       2    2            2                 \u23a4\n",
        "\u23a2- r \u22c5sin (\u03b8) + r \u22c5cos (\u03b8)     -2\u22c5r \u22c5sin(\u03b8)\u22c5cos(\u03b8)   \u23a5\n",
        "\u23a2                                                    \u23a5\n",
        "\u23a2      2                       2    2       2    2   \u23a5\n",
        "\u23a3   2\u22c5r \u22c5sin(\u03b8)\u22c5cos(\u03b8)      - r \u22c5sin (\u03b8) + r \u22c5cos (\u03b8)\u23a6"
       ]
      }
     ],
     "prompt_number": 66
    },
    {
     "cell_type": "code",
     "collapsed": false,
     "input": [
      "v = Matrix([[x], [y]])\n",
      "v"
     ],
     "language": "python",
     "metadata": {},
     "outputs": [
      {
       "latex": [
        "$$\\left[\\begin{matrix}x\\\\y\\end{matrix}\\right]$$"
       ],
       "metadata": {},
       "output_type": "pyout",
       "prompt_number": 68,
       "text": [
        "\u23a1x\u23a4\n",
        "\u23a2 \u23a5\n",
        "\u23a3y\u23a6"
       ]
      }
     ],
     "prompt_number": 68
    },
    {
     "cell_type": "code",
     "collapsed": false,
     "input": [
      "rot * v"
     ],
     "language": "python",
     "metadata": {},
     "outputs": [
      {
       "latex": [
        "$$\\left[\\begin{matrix}r x \\cos{\\left (\\theta \\right )} - r y \\sin{\\left (\\theta \\right )}\\\\r x \\sin{\\left (\\theta \\right )} + r y \\cos{\\left (\\theta \\right )}\\end{matrix}\\right]$$"
       ],
       "metadata": {},
       "output_type": "pyout",
       "prompt_number": 70,
       "text": [
        "\u23a1r\u22c5x\u22c5cos(\u03b8) - r\u22c5y\u22c5sin(\u03b8)\u23a4\n",
        "\u23a2                       \u23a5\n",
        "\u23a3r\u22c5x\u22c5sin(\u03b8) + r\u22c5y\u22c5cos(\u03b8)\u23a6"
       ]
      }
     ],
     "prompt_number": 70
    },
    {
     "cell_type": "markdown",
     "metadata": {},
     "source": [
      "### Exercise\n",
      "\n",
      "In the last exercise you found the inverse of the following matrix"
     ]
    },
    {
     "cell_type": "code",
     "collapsed": false,
     "input": [
      "M = Matrix([[1, x], [y, 1]])\n",
      "M"
     ],
     "language": "python",
     "metadata": {},
     "outputs": [
      {
       "latex": [
        "$$\\left[\\begin{matrix}1 & x\\\\y & 1\\end{matrix}\\right]$$"
       ],
       "metadata": {},
       "output_type": "pyout",
       "prompt_number": 71,
       "text": [
        "\u23a11  x\u23a4\n",
        "\u23a2    \u23a5\n",
        "\u23a3y  1\u23a6"
       ]
      }
     ],
     "prompt_number": 71
    },
    {
     "cell_type": "code",
     "collapsed": false,
     "input": [
      "M.inv()"
     ],
     "language": "python",
     "metadata": {},
     "outputs": [
      {
       "latex": [
        "$$\\left[\\begin{matrix}\\frac{x y}{- x y + 1} + 1 & - \\frac{x}{- x y + 1}\\\\- \\frac{y}{- x y + 1} & \\frac{1}{- x y + 1}\\end{matrix}\\right]$$"
       ],
       "metadata": {},
       "output_type": "pyout",
       "prompt_number": 72,
       "text": [
        "\u23a1  x\u22c5y           -x    \u23a4\n",
        "\u23a2\u2500\u2500\u2500\u2500\u2500\u2500\u2500\u2500 + 1  \u2500\u2500\u2500\u2500\u2500\u2500\u2500\u2500\u23a5\n",
        "\u23a2-x\u22c5y + 1      -x\u22c5y + 1\u23a5\n",
        "\u23a2                      \u23a5\n",
        "\u23a2    -y           1    \u23a5\n",
        "\u23a2  \u2500\u2500\u2500\u2500\u2500\u2500\u2500\u2500    \u2500\u2500\u2500\u2500\u2500\u2500\u2500\u2500\u23a5\n",
        "\u23a3  -x\u22c5y + 1    -x\u22c5y + 1\u23a6"
       ]
      }
     ],
     "prompt_number": 72
    },
    {
     "cell_type": "markdown",
     "metadata": {},
     "source": [
      "Now verify that this is the true inverse by multiplying the matrix times its inverse.  Do you get the identity matrix back?"
     ]
    },
    {
     "cell_type": "code",
     "collapsed": false,
     "input": [
      "# Multiply `M` by its inverse.  Do you get back the identity matrix?\n",
      "\n"
     ],
     "language": "python",
     "metadata": {},
     "outputs": [],
     "prompt_number": 73
    },
    {
     "cell_type": "markdown",
     "metadata": {},
     "source": [
      "### Exercise\n",
      "\n",
      "What are the eigenvectors and eigenvalues of `M`?"
     ]
    },
    {
     "cell_type": "code",
     "collapsed": true,
     "input": [
      "# Find the methods to compute eigenvectors and eigenvalues. Use these methods on `M`\n",
      "\n",
      "M.eigenvects()"
     ],
     "language": "python",
     "metadata": {},
     "outputs": [
      {
       "output_type": "stream",
       "stream": "stderr",
       "text": [
        "/home/mrocklin/Software/anaconda/lib/python2.7/site-packages/IPython/core/formatters.py:239: FormatterWarning: Exception in image/png formatter: \n",
        "\\begin{bmatrix}\\begin{pmatrix}- \\sqrt{x y} + 1, & 1, & \\begin{bmatrix}\\left[\\begin{smallmatrix}- x / \\sqrt{x y}\\\\1\\end{smallmatrix}\\right]\\end{bmatrix}\\end{pmatrix}, & \\begin{pmatrix}\\sqrt{x y} + 1, & 1, & \\begin{bmatrix}\\left[\\begin{smallmatrix}x / \\sqrt{x y}\\\\1\\end{smallmatrix}\\right]\\end{bmatrix}\\end{pmatrix}\\end{bmatrix}\n",
        "^\n",
        "Unknown symbol: \\begin (at char 0), (line:1, col:1)\n",
        "  FormatterWarning,\n"
       ]
      },
      {
       "latex": [
        "$$\\begin{bmatrix}\\begin{pmatrix}- \\sqrt{x y} + 1, & 1, & \\begin{bmatrix}\\left[\\begin{matrix}- \\frac{x}{\\sqrt{x y}}\\\\1\\end{matrix}\\right]\\end{bmatrix}\\end{pmatrix}, & \\begin{pmatrix}\\sqrt{x y} + 1, & 1, & \\begin{bmatrix}\\left[\\begin{matrix}\\frac{x}{\\sqrt{x y}}\\\\1\\end{matrix}\\right]\\end{bmatrix}\\end{pmatrix}\\end{bmatrix}$$"
       ],
       "metadata": {},
       "output_type": "pyout",
       "prompt_number": 76,
       "text": [
        "\u23a1\u239b    _____         \u23a1\u23a1  -x   \u23a4\u23a4\u239e  \u239b  _____         \u23a1\u23a1   x   \u23a4\u23a4\u239e\u23a4\n",
        "\u23a2\u239c- \u2572\u2571 x\u22c5y  + 1, 1, \u23a2\u23a2\u2500\u2500\u2500\u2500\u2500\u2500\u2500\u23a5\u23a5\u239f, \u239c\u2572\u2571 x\u22c5y  + 1, 1, \u23a2\u23a2\u2500\u2500\u2500\u2500\u2500\u2500\u2500\u23a5\u23a5\u239f\u23a5\n",
        "\u23a2\u239c                  \u23a2\u23a2  _____\u23a5\u23a5\u239f  \u239c                \u23a2\u23a2  _____\u23a5\u23a5\u239f\u23a5\n",
        "\u23a2\u239c                  \u23a2\u23a2\u2572\u2571 x\u22c5y \u23a5\u23a5\u239f  \u239c                \u23a2\u23a2\u2572\u2571 x\u22c5y \u23a5\u23a5\u239f\u23a5\n",
        "\u23a2\u239c                  \u23a2\u23a2       \u23a5\u23a5\u239f  \u239c                \u23a2\u23a2       \u23a5\u23a5\u239f\u23a5\n",
        "\u23a3\u239d                  \u23a3\u23a3   1   \u23a6\u23a6\u23a0  \u239d                \u23a3\u23a3   1   \u23a6\u23a6\u23a0\u23a6"
       ]
      }
     ],
     "prompt_number": 76
    },
    {
     "cell_type": "markdown",
     "metadata": {},
     "source": [
      "### NumPy-like Item access"
     ]
    },
    {
     "cell_type": "code",
     "collapsed": false,
     "input": [
      "rot[0, 0]"
     ],
     "language": "python",
     "metadata": {},
     "outputs": [
      {
       "latex": [
        "$$r \\cos{\\left (\\theta \\right )}$$"
       ],
       "metadata": {},
       "output_type": "pyout",
       "png": "[encoded data removed]",
       "prompt_number": 33,
       "text": [
        "r\u22c5cos(\u03b8)"
       ]
      }
     ],
     "prompt_number": 33
    },
    {
     "cell_type": "code",
     "collapsed": false,
     "input": [
      "rot[:, 0]"
     ],
     "language": "python",
     "metadata": {},
     "outputs": [
      {
       "latex": [
        "$$\\left[\\begin{matrix}r \\cos{\\left (\\theta \\right )} + 2\\\\r \\sin{\\left (\\theta \\right )}\\end{matrix}\\right]$$"
       ],
       "metadata": {},
       "output_type": "pyout",
       "prompt_number": 48,
       "text": [
        "\u23a1r\u22c5cos(\u03b8) + 2\u23a4\n",
        "\u23a2            \u23a5\n",
        "\u23a3  r\u22c5sin(\u03b8)  \u23a6"
       ]
      }
     ],
     "prompt_number": 48
    },
    {
     "cell_type": "code",
     "collapsed": false,
     "input": [
      "rot[1, :]"
     ],
     "language": "python",
     "metadata": {},
     "outputs": [
      {
       "latex": [
        "$$\\left[\\begin{matrix}r \\sin{\\left (\\theta \\right )} & r \\cos{\\left (\\theta \\right )}\\end{matrix}\\right]$$"
       ],
       "metadata": {},
       "output_type": "pyout",
       "prompt_number": 49,
       "text": [
        "[r\u22c5sin(\u03b8)  r\u22c5cos(\u03b8)]"
       ]
      }
     ],
     "prompt_number": 49
    },
    {
     "cell_type": "markdown",
     "metadata": {},
     "source": [
      "### Mutation\n",
      "\n",
      "We can change elements in the matrix."
     ]
    },
    {
     "cell_type": "code",
     "collapsed": false,
     "input": [
      "rot[0, 0] += 1\n",
      "rot"
     ],
     "language": "python",
     "metadata": {},
     "outputs": [
      {
       "latex": [
        "$$\\left[\\begin{matrix}r \\cos{\\left (\\theta \\right )} + 2 & - r \\sin{\\left (\\theta \\right )}\\\\r \\sin{\\left (\\theta \\right )} & r \\cos{\\left (\\theta \\right )}\\end{matrix}\\right]$$"
       ],
       "metadata": {},
       "output_type": "pyout",
       "prompt_number": 44,
       "text": [
        "\u23a1r\u22c5cos(\u03b8) + 2  -r\u22c5sin(\u03b8)\u23a4\n",
        "\u23a2                       \u23a5\n",
        "\u23a3  r\u22c5sin(\u03b8)    r\u22c5cos(\u03b8) \u23a6"
       ]
      }
     ],
     "prompt_number": 44
    },
    {
     "cell_type": "code",
     "collapsed": false,
     "input": [
      "simplify(rot.det())"
     ],
     "language": "python",
     "metadata": {},
     "outputs": [
      {
       "latex": [
        "$$r \\left(r + \\cos{\\left (\\theta \\right )}\\right)$$"
       ],
       "metadata": {},
       "output_type": "pyout",
       "png": "[encoded data removed]",
       "prompt_number": 39,
       "text": [
        "r\u22c5(r + cos(\u03b8))"
       ]
      }
     ],
     "prompt_number": 39
    },
    {
     "cell_type": "code",
     "collapsed": false,
     "input": [
      "rot.singular_values()"
     ],
     "language": "python",
     "metadata": {},
     "outputs": [
      {
       "latex": [
        "$$\\begin{bmatrix}\\sqrt{r^{2} + r \\cos{\\left (\\theta \\right )} + \\frac{1}{2} \\sqrt{4 r^{2} + 4 r \\cos{\\left (\\theta \\right )} + 1} + \\frac{1}{2}}, & \\sqrt{r^{2} + r \\cos{\\left (\\theta \\right )} - \\frac{1}{2} \\sqrt{4 r^{2} + 4 r \\cos{\\left (\\theta \\right )} + 1} + \\frac{1}{2}}\\end{bmatrix}$$"
       ],
       "metadata": {},
       "output_type": "pyout",
       "prompt_number": 43,
       "text": [
        "\u23a1      ________________________________________________        _______________\n",
        "\u23a2     \u2571                    _______________________            \u2571               \n",
        "\u23a2    \u2571                    \u2571    2                             \u2571                \n",
        "\u23a2   \u2571    2              \u2572\u2571  4\u22c5r  + 4\u22c5r\u22c5cos(\u03b8) + 1    1      \u2571    2            \n",
        "\u23a2  \u2571    r  + r\u22c5cos(\u03b8) + \u2500\u2500\u2500\u2500\u2500\u2500\u2500\u2500\u2500\u2500\u2500\u2500\u2500\u2500\u2500\u2500\u2500\u2500\u2500\u2500\u2500\u2500\u2500\u2500\u2500\u2500 + \u2500 ,   \u2571    r  + r\u22c5cos(\u03b8) \n",
        "\u23a3\u2572\u2571                                 2                2   \u2572\u2571                   \n",
        "\n",
        "_________________________________\u23a4\n",
        "     _______________________     \u23a5\n",
        "    \u2571    2                       \u23a5\n",
        "  \u2572\u2571  4\u22c5r  + 4\u22c5r\u22c5cos(\u03b8) + 1    1 \u23a5\n",
        "- \u2500\u2500\u2500\u2500\u2500\u2500\u2500\u2500\u2500\u2500\u2500\u2500\u2500\u2500\u2500\u2500\u2500\u2500\u2500\u2500\u2500\u2500\u2500\u2500\u2500\u2500 + \u2500 \u23a5\n",
        "              2                2 \u23a6"
       ]
      }
     ],
     "prompt_number": 43
    },
    {
     "cell_type": "markdown",
     "metadata": {},
     "source": [
      "### Exercise\n",
      "\n",
      "Play around with your matrix `M`, manipulating elements in a NumPy like way.  Then try the various methods that we've talked about (or others).  See what sort of answers you get."
     ]
    },
    {
     "cell_type": "code",
     "collapsed": false,
     "input": [
      "# Play with matrices\n",
      "\n"
     ],
     "language": "python",
     "metadata": {},
     "outputs": [],
     "prompt_number": 77
    }
   ],
   "metadata": {}
  }
 ]
}
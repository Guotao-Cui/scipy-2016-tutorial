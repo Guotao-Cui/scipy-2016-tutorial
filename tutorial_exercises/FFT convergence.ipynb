{
 "metadata": {
  "name": "FFT convergence"
 },
 "nbformat": 3,
 "nbformat_minor": 0,
 "worksheets": [
  {
   "cells": [
    {
     "cell_type": "code",
     "collapsed": false,
     "input": [
      "%pylab inline\n",
      "from sympy.interactive import init_printing\n",
      "init_printing()\n",
      "from sympy import sqrt, sin, pi, var, integrate, Symbol, S, Integral\n",
      "var(\"x y z\")\n",
      "n = 3 * ((x-1)**2 + (y-1)**2 + (z-1)**2 - 1) / pi\n",
      "Vh = -((x-1)**4 + (y-1)**4 + (z-1)**4) + 2*(x**2+y**2+z**2)\n",
      "def laplace(f):\n",
      "    return f.diff(x, 2) + f.diff(y, 2) + f.diff(z, 2)\n",
      "print \"n =\"\n",
      "n"
     ],
     "language": "python",
     "metadata": {},
     "outputs": [
      {
       "output_type": "stream",
       "stream": "stdout",
       "text": [
        "\n",
        "Welcome to pylab, a matplotlib-based Python environment [backend: module://IPython.zmq.pylab.backend_inline].\n",
        "For more information, type 'help(pylab)'.\n"
       ]
      },
      {
       "output_type": "stream",
       "stream": "stdout",
       "text": [
        "n =\n"
       ]
      },
      {
       "latex": [
        "$$\\frac{3 \\left(x -1\\right)^{2} + 3 \\left(y -1\\right)^{2} + 3 \\left(z -1\\right)^{2} -3}{\\pi}$$"
       ],
       "output_type": "pyout",
       "png": "[encoded data removed]",
       "prompt_number": 5,
       "text": [
        "         2            2            2    \n",
        "3\u22c5(x - 1)  + 3\u22c5(y - 1)  + 3\u22c5(z - 1)  - 3\n",
        "\u2500\u2500\u2500\u2500\u2500\u2500\u2500\u2500\u2500\u2500\u2500\u2500\u2500\u2500\u2500\u2500\u2500\u2500\u2500\u2500\u2500\u2500\u2500\u2500\u2500\u2500\u2500\u2500\u2500\u2500\u2500\u2500\u2500\u2500\u2500\u2500\u2500\u2500\u2500\u2500\n",
        "                   \u03c0                    "
       ]
      }
     ],
     "prompt_number": 5
    },
    {
     "cell_type": "code",
     "collapsed": false,
     "input": [
      "print \"Vh =\"\n",
      "Vh"
     ],
     "language": "python",
     "metadata": {},
     "outputs": [
      {
       "output_type": "stream",
       "stream": "stdout",
       "text": [
        "Vh =\n"
       ]
      },
      {
       "latex": [
        "$$2 x^{2} + 2 y^{2} + 2 z^{2} - \\left(x -1\\right)^{4} - \\left(y -1\\right)^{4} - \\left(z -1\\right)^{4}$$"
       ],
       "output_type": "pyout",
       "png": "[encoded data removed]",
       "prompt_number": 6,
       "text": [
        "   2      2      2          4          4          4\n",
        "2\u22c5x  + 2\u22c5y  + 2\u22c5z  - (x - 1)  - (y - 1)  - (z - 1) "
       ]
      }
     ],
     "prompt_number": 6
    },
    {
     "cell_type": "markdown",
     "metadata": {},
     "source": [
      "Let's check charge neutrality:"
     ]
    },
    {
     "cell_type": "code",
     "collapsed": false,
     "input": [
      "integrate(n, (x, 0, 2), (y, 0, 2), (z, 0, 2))"
     ],
     "language": "python",
     "metadata": {},
     "outputs": [
      {
       "latex": [
        "$$0$$"
       ],
       "output_type": "pyout",
       "png": "[encoded data removed]",
       "prompt_number": 7,
       "text": [
        "0"
       ]
      }
     ],
     "prompt_number": 7
    },
    {
     "cell_type": "markdown",
     "metadata": {},
     "source": [
      "$V_H$ is produced by the charge density $n$:"
     ]
    },
    {
     "cell_type": "code",
     "collapsed": false,
     "input": [
      "laplace(Vh) / (-4*pi)"
     ],
     "language": "python",
     "metadata": {},
     "outputs": [
      {
       "latex": [
        "$$- \\frac{- 12 \\left(x -1\\right)^{2} - 12 \\left(y -1\\right)^{2} - 12 \\left(z -1\\right)^{2} + 12}{4 \\pi}$$"
       ],
       "output_type": "pyout",
       "png": "[encoded data removed]",
       "prompt_number": 8,
       "text": [
        " \u239b            2             2             2     \u239e\n",
        "-\u239d- 12\u22c5(x - 1)  - 12\u22c5(y - 1)  - 12\u22c5(z - 1)  + 12\u23a0\n",
        "\u2500\u2500\u2500\u2500\u2500\u2500\u2500\u2500\u2500\u2500\u2500\u2500\u2500\u2500\u2500\u2500\u2500\u2500\u2500\u2500\u2500\u2500\u2500\u2500\u2500\u2500\u2500\u2500\u2500\u2500\u2500\u2500\u2500\u2500\u2500\u2500\u2500\u2500\u2500\u2500\u2500\u2500\u2500\u2500\u2500\u2500\u2500\u2500\u2500\n",
        "                       4\u22c5\u03c0                       "
       ]
      }
     ],
     "prompt_number": 8
    },
    {
     "cell_type": "code",
     "collapsed": false,
     "input": [
      "_.simplify()"
     ],
     "language": "python",
     "metadata": {},
     "outputs": [
      {
       "latex": [
        "$$\\frac{3 \\left(x -1\\right)^{2} + 3 \\left(y -1\\right)^{2} + 3 \\left(z -1\\right)^{2} -3}{\\pi}$$"
       ],
       "output_type": "pyout",
       "png": "[encoded data removed]",
       "prompt_number": 9,
       "text": [
        "         2            2            2    \n",
        "3\u22c5(x - 1)  + 3\u22c5(y - 1)  + 3\u22c5(z - 1)  - 3\n",
        "\u2500\u2500\u2500\u2500\u2500\u2500\u2500\u2500\u2500\u2500\u2500\u2500\u2500\u2500\u2500\u2500\u2500\u2500\u2500\u2500\u2500\u2500\u2500\u2500\u2500\u2500\u2500\u2500\u2500\u2500\u2500\u2500\u2500\u2500\u2500\u2500\u2500\u2500\u2500\u2500\n",
        "                   \u03c0                    "
       ]
      }
     ],
     "prompt_number": 9
    },
    {
     "cell_type": "markdown",
     "metadata": {},
     "source": [
      "The Hartree energy $E_H$ is: "
     ]
    },
    {
     "cell_type": "code",
     "collapsed": false,
     "input": [
      "integrate(Vh*n, (x, 0, 2), (y, 0, 2), (z, 0, 2))/2"
     ],
     "language": "python",
     "metadata": {},
     "outputs": [
      {
       "latex": [
        "$$\\frac{128}{35 \\pi}$$"
       ],
       "output_type": "pyout",
       "png": "[encoded data removed]",
       "prompt_number": 10,
       "text": [
        "128 \n",
        "\u2500\u2500\u2500\u2500\n",
        "35\u22c5\u03c0"
       ]
      }
     ],
     "prompt_number": 10
    },
    {
     "cell_type": "markdown",
     "metadata": {},
     "source": [
      "We are solving a Poisson equation:\n",
      "$$\\nabla^2 V_H(x, y, z) = -4\\pi n(x, y, z)$$\n",
      "with\n",
      "$$n(x, y, z) = {3\\over\\pi} ((x-1)^2 + (y-1)^2 + (z-1)^2 - 1)$$\n",
      "on the domain $[0, 2] \\times [0, 2] \\times [0, 2]$ with periodic boundary condition. This charge density is net neutral. The solution is given by:\n",
      "$$\n",
      "V_H({\\bf x}) = \\int {n({\\bf y})\\over |{\\bf x}-{\\bf y}|} d^3 y\n",
      "$$\n",
      "where ${\\bf x}=(x, y, z)$. In reciprocal space\n",
      "$$\n",
      "V_H({\\bf G}) = 4\\pi {n({\\bf G})\\over G^2}\n",
      "$$\n",
      "where ${\\bf G}$ are the reciprocal space vectors. I am interested in the Hartree energy:\n",
      "$$\n",
      "E_H = {1\\over 2} \\int {n({\\bf x}) n({\\bf y})\\over |{\\bf x}-{\\bf y}|} d^3 x d^3 y\n",
      "= {1\\over 2} \\int V_H({\\bf x}) n({\\bf x}) d^3 x\n",
      "$$\n",
      "In reciprocal space this becomes (after discretization):\n",
      "$$\n",
      "E_H = 2\\pi \\sum_{{\\bf G}\\ne 0} {|n({\\bf G})|^2\\over G^2}\n",
      "$$\n",
      "The ${\\bf G}=0$ term is omitted, which effectively makes the charge density net neutral (and since it is already neutral, then everything is consistent).\n",
      "\n",
      "For the test problem above, this can be evaluated analytically and one gets:\n",
      "$$\n",
      "E_H = {128\\over 35\\pi} = 1.16410...\n",
      "$$\n",
      "Now we implement the FFT solver in NumPy below and plot the convergence graphs with respect to this exact energy.\n",
      "\n",
      "\n",
      "This problem has also been discussed at:\n",
      "\n",
      "http://scicomp.stackexchange.com/questions/7097/convergence-rate-of-fft-poisson-solver/7169\n",
      "\n",
      "[Computational Science StackExchange](http://scicomp.stackexchange.com/) is a great site to ask these questions!"
     ]
    },
    {
     "cell_type": "code",
     "collapsed": false,
     "input": [
      "from numpy import empty, pi, meshgrid, linspace, sum\n",
      "from numpy.fft import fftn, fftfreq\n",
      "E_exact = 128/(35*pi)\n",
      "print \"Hartree Energy (exact):      %.15f\" % E_exact\n",
      "f = open(\"conv.txt\", \"w\")\n",
      "for N in range(3, 200, 10):\n",
      "    print \"N =\", N\n",
      "    L = 2.\n",
      "    x1d = linspace(0, L, N+1)[:-1]\n",
      "    x, y, z = meshgrid(x1d, x1d, x1d)\n",
      "\n",
      "    nr = 3 * ((x-1)**2 + (y-1)**2 + (z-1)**2 - 1) / pi\n",
      "    ng = fftn(nr) / N**3\n",
      "\n",
      "    G1d = N * fftfreq(N) * 2*pi/L\n",
      "    kx, ky, kz = meshgrid(G1d, G1d, G1d)\n",
      "    G2 = kx**2+ky**2+kz**2\n",
      "    G2[0, 0, 0] = 1  # omit the G=0 term\n",
      "\n",
      "    tmp = 2*pi*abs(ng)**2 / G2\n",
      "    tmp[0, 0, 0] = 0  # omit the G=0 term\n",
      "    E = sum(tmp) * L**3\n",
      "    print \"Hartree Energy (calculated): %.15f\" % E\n",
      "    f.write(\"%d %.15f\\n\" % (N, E))\n",
      "f.close()"
     ],
     "language": "python",
     "metadata": {},
     "outputs": [
      {
       "output_type": "stream",
       "stream": "stdout",
       "text": [
        "Hartree Energy (exact):      1.164104726615006\n",
        "N = 3\n",
        "Hartree Energy (calculated): 2.446338611821947\n",
        "N = 13\n",
        "Hartree Energy (calculated): 1.213786470434117\n",
        "N = 23\n",
        "Hartree Energy (calculated): 1.179663010471846\n",
        "N = 33\n",
        "Hartree Energy (calculated): 1.171624324575022\n",
        "N = 43\n",
        "Hartree Energy (calculated): 1.168524684513086"
       ]
      },
      {
       "output_type": "stream",
       "stream": "stdout",
       "text": [
        "\n",
        "N = 53\n",
        "Hartree Energy (calculated): 1.167011254992898"
       ]
      },
      {
       "output_type": "stream",
       "stream": "stdout",
       "text": [
        "\n",
        "N = 63\n",
        "Hartree Energy (calculated): 1.166160629019379"
       ]
      },
      {
       "output_type": "stream",
       "stream": "stdout",
       "text": [
        "\n",
        "N = 73\n",
        "Hartree Energy (calculated): 1.165635416812430"
       ]
      },
      {
       "output_type": "stream",
       "stream": "stdout",
       "text": [
        "\n",
        "N = 83\n",
        "Hartree Energy (calculated): 1.165288523120677"
       ]
      },
      {
       "output_type": "stream",
       "stream": "stdout",
       "text": [
        "\n",
        "N = 93\n",
        "Hartree Energy (calculated): 1.165047479421731"
       ]
      },
      {
       "output_type": "stream",
       "stream": "stdout",
       "text": [
        "\n",
        "N = 103\n",
        "Hartree Energy (calculated): 1.164873217880501"
       ]
      },
      {
       "output_type": "stream",
       "stream": "stdout",
       "text": [
        "\n",
        "N = 113\n",
        "Hartree Energy (calculated): 1.164743164819577"
       ]
      },
      {
       "output_type": "stream",
       "stream": "stdout",
       "text": [
        "\n",
        "N = 123\n",
        "Hartree Energy (calculated): 1.164643537882899"
       ]
      },
      {
       "output_type": "stream",
       "stream": "stdout",
       "text": [
        "\n",
        "N = 133\n",
        "Hartree Energy (calculated): 1.164565535654283"
       ]
      },
      {
       "output_type": "stream",
       "stream": "stdout",
       "text": [
        "\n",
        "N = 143\n",
        "Hartree Energy (calculated): 1.164503323719686"
       ]
      },
      {
       "output_type": "stream",
       "stream": "stdout",
       "text": [
        "\n",
        "N = 153\n",
        "Hartree Energy (calculated): 1.164452910534660"
       ]
      },
      {
       "output_type": "stream",
       "stream": "stdout",
       "text": [
        "\n",
        "N = 163\n",
        "Hartree Energy (calculated): 1.164411490567212"
       ]
      },
      {
       "output_type": "stream",
       "stream": "stdout",
       "text": [
        "\n",
        "N = 173\n",
        "Hartree Energy (calculated): 1.164377045217771"
       ]
      },
      {
       "output_type": "stream",
       "stream": "stdout",
       "text": [
        "\n",
        "N = 183\n",
        "Hartree Energy (calculated): 1.164348092059736"
       ]
      },
      {
       "output_type": "stream",
       "stream": "stdout",
       "text": [
        "\n",
        "N = 193\n",
        "Hartree Energy (calculated): 1.164323522587376"
       ]
      },
      {
       "output_type": "stream",
       "stream": "stdout",
       "text": [
        "\n"
       ]
      }
     ],
     "prompt_number": 11
    },
    {
     "cell_type": "code",
     "collapsed": false,
     "input": [
      "from pylab import plot, semilogy\n",
      "from numpy import loadtxt, pi\n",
      "D = loadtxt(\"conv.txt\")\n",
      "N = D[:, 0]\n",
      "E = D[:, 1]\n",
      "E_exact = 128/(35*pi)"
     ],
     "language": "python",
     "metadata": {},
     "outputs": [],
     "prompt_number": 12
    },
    {
     "cell_type": "code",
     "collapsed": false,
     "input": [
      "figure(figsize=(8, 6), dpi=80)\n",
      "semilogy(N, E-E_exact, \"k-\")\n",
      "grid()\n",
      "title(\"Convergence of an FFT Poisson solver (semilogy)\")\n",
      "xlabel(\"N (number of PW in each direction)\")\n",
      "ylabel(\"E  -  E_exact  [a.u.]\")\n",
      "savefig(\"fft_convergence_semilogy.png\")"
     ],
     "language": "python",
     "metadata": {},
     "outputs": [
      {
       "output_type": "display_data",
       "png": "[encoded data removed]"
      }
     ],
     "prompt_number": 13
    },
    {
     "cell_type": "code",
     "collapsed": false,
     "input": [
      "figure(figsize=(8, 6), dpi=80)\n",
      "calculated = E-E_exact\n",
      "loglog(N, E-E_exact, \"ko\", label=\"calculated\")\n",
      "predicted = 1/N**2\n",
      "predicted = predicted * (calculated[-1] /  predicted[-1])\n",
      "loglog(N, predicted, \"g-\", label=\"$1/N^2$\")\n",
      "grid()\n",
      "title(\"Convergence of an FFT Poisson solver (loglog)\")\n",
      "xlabel(\"N (number of PW in each direction)\")\n",
      "ylabel(\"E  -  E_exact  [a.u.]\")\n",
      "legend()\n",
      "savefig(\"fft_convergence_loglog.png\")"
     ],
     "language": "python",
     "metadata": {},
     "outputs": [
      {
       "output_type": "display_data",
       "png": "[encoded data removed]"
      }
     ],
     "prompt_number": 14
    },
    {
     "cell_type": "code",
     "collapsed": false,
     "input": [],
     "language": "python",
     "metadata": {},
     "outputs": [],
     "prompt_number": 9
    }
   ],
   "metadata": {}
  }
 ]
}
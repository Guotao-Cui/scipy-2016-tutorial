{
 "metadata": {
  "name": "",
  "signature": "sha256:e18e000985bd50b73dbeba29bc2d797b716d34b542c25c3542a20ec55748bc50"
 },
 "nbformat": 3,
 "nbformat_minor": 0,
 "worksheets": [
  {
   "cells": [
    {
     "cell_type": "code",
     "collapsed": false,
     "input": [
      "from sympy import *\n",
      "init_printing()\n",
      "n, m = symbols('n,m', integer=True)\n",
      "x, y, z = symbols('x,y,z')"
     ],
     "language": "python",
     "metadata": {},
     "outputs": [],
     "prompt_number": 1
    },
    {
     "cell_type": "markdown",
     "metadata": {},
     "source": [
      "## Integrals\n",
      "\n",
      "In the last section we learned symbolic differentiation with `.diff`.  Here we'll cover symbolic integration with `integrate`."
     ]
    },
    {
     "cell_type": "markdown",
     "metadata": {},
     "source": [
      "Here is how we write the indefinite integral\n",
      "\n",
      "$$ \\int x^2 dx = \\frac{x^3}{3}$$"
     ]
    },
    {
     "cell_type": "code",
     "collapsed": false,
     "input": [
      "# Indefinite integral\n",
      "integrate(x**2, x)"
     ],
     "language": "python",
     "metadata": {},
     "outputs": [
      {
       "latex": [
        "$$\\frac{x^{3}}{3}$$"
       ],
       "metadata": {},
       "output_type": "pyout",
       "png": "[encoded data removed]",
       "prompt_number": 3,
       "text": [
        " 3\n",
        "x \n",
        "\u2500\u2500\n",
        "3 "
       ]
      }
     ],
     "prompt_number": 3
    },
    {
     "cell_type": "markdown",
     "metadata": {},
     "source": [
      "And the definite integral\n",
      "\n",
      "$$ \\int_0^3 x^2 dx = \\left.\\frac{x^3}{3} \\right|_0^3 = \\frac{3^3}{3} - \\frac{0^3}{3} = 9 $$"
     ]
    },
    {
     "cell_type": "code",
     "collapsed": false,
     "input": [
      "# Definite integral\n",
      "integrate(x**2, (x, 0, 3))"
     ],
     "language": "python",
     "metadata": {},
     "outputs": [
      {
       "latex": [
        "$$9$$"
       ],
       "metadata": {},
       "output_type": "pyout",
       "png": "[encoded data removed]",
       "prompt_number": 4,
       "text": [
        "9"
       ]
      }
     ],
     "prompt_number": 4
    },
    {
     "cell_type": "markdown",
     "metadata": {},
     "source": [
      "As always, because we're using symbolics, we could use a symbol whenever we previously used a number\n",
      "\n",
      "$$ \\int_y^z x^n dx $$"
     ]
    },
    {
     "cell_type": "code",
     "collapsed": false,
     "input": [
      "integrate(x**n, (x, y, z))"
     ],
     "language": "python",
     "metadata": {},
     "outputs": [
      {
       "latex": [
        "$$\\begin{cases} - \\log{\\left (y \\right )} + \\log{\\left (z \\right )} & \\text{for}\\: n = -1 \\\\- \\frac{y^{n + 1}}{n + 1} + \\frac{z^{n + 1}}{n + 1} & \\text{otherwise} \\end{cases}$$"
       ],
       "metadata": {},
       "output_type": "pyout",
       "prompt_number": 6,
       "text": [
        "\u23a7-log(y) + log(z)   for n = -1\n",
        "\u23aa                             \n",
        "\u23aa   n + 1    n + 1            \n",
        "\u23a8  y        z                 \n",
        "\u23aa- \u2500\u2500\u2500\u2500\u2500\u2500 + \u2500\u2500\u2500\u2500\u2500\u2500  otherwise \n",
        "\u23aa  n + 1    n + 1             \n",
        "\u23a9                             "
       ]
      }
     ],
     "prompt_number": 6
    },
    {
     "cell_type": "markdown",
     "metadata": {},
     "source": [
      "### Exercise\n",
      "\n",
      "Compute the following integrals:\n",
      "\n",
      "$$ \\int ... $$\n",
      "$$ \\int ... $$\n",
      "$$ \\int ... $$\n",
      "$$ \\int ... $$\n",
      "\n",
      "Feel free to play with various parameters and settings and see how the results change.  Are there some integrals that SymPy can't do?  Find some."
     ]
    },
    {
     "cell_type": "code",
     "collapsed": false,
     "input": [
      "# Use `integrate` to solve the integrals above\n",
      "\n"
     ],
     "language": "python",
     "metadata": {},
     "outputs": [],
     "prompt_number": 7
    }
   ],
   "metadata": {}
  }
 ]
}
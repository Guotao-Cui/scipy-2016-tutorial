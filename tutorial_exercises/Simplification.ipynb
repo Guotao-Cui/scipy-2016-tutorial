{
 "metadata": {
  "name": "Simplification"
 },
 "nbformat": 3,
 "nbformat_minor": 0,
 "worksheets": [
  {
   "cells": [
    {
     "cell_type": "markdown",
     "metadata": {},
     "source": [
      "# Simplification"
     ]
    },
    {
     "cell_type": "markdown",
     "metadata": {},
     "source": [
      "Boilerplate to make the doctester work."
     ]
    },
    {
     "cell_type": "code",
     "collapsed": false,
     "input": [
      "import sys\n",
      "import os\n",
      "sys.path.insert(1, os.path.join(os.path.pardir, \"ipython_doctester\"))\n",
      "from sympy import *\n",
      "from ipython_doctester import test\n",
      "x, y, z = symbols('x y z')"
     ],
     "language": "python",
     "metadata": {},
     "outputs": [],
     "prompt_number": 8
    },
    {
     "cell_type": "markdown",
     "metadata": {},
     "source": [
      "For each exercise, fill in the function according to its docstring. Execute the cell to see if you did it right. "
     ]
    },
    {
     "cell_type": "markdown",
     "metadata": {},
     "source": [
      "## Polynomial/Rational Function Simplification"
     ]
    },
    {
     "cell_type": "markdown",
     "metadata": {},
     "source": [
      "In each exercise, apply specific simplification functions to get the desired result."
     ]
    },
    {
     "cell_type": "code",
     "collapsed": false,
     "input": [
      "@test\n",
      "def polysimp1(expr):\n",
      "    \"\"\"\n",
      "    >>> polysimp1(cos(x)*sin(x) + cos(x))\n",
      "    (sin(x) + 1)*cos(x)\n",
      "    >>> polysimp1(cos(x)*sin(x) + cos(x) + 1)\n",
      "    (sin(x) + 1)*cos(x) + 1\n",
      "    \"\"\"\n",
      "    return collect(expr, cos(x))"
     ],
     "language": "python",
     "metadata": {},
     "outputs": [
      {
       "html": [
        "\n",
        "      <p style=\"color:green;font-size:250%;font-weight=bold\">Success!</p>\n",
        "      "
       ],
       "output_type": "display_data"
      }
     ],
     "prompt_number": 9
    },
    {
     "cell_type": "code",
     "collapsed": false,
     "input": [
      "@test\n",
      "def polysimp2(expr):\n",
      "    \"\"\"\n",
      "    >>> polysimp2((2*x + 1)/(x**2 + x))\n",
      "    1/(x + 1) + 1/x\n",
      "    >>> polysimp2((x**2 + 3*x + 1)/(x**3 + 2*x**2 + x))\n",
      "    1/(x**2 + 2*x + 1) + 1/x\n",
      "    \"\"\"\n",
      "    return expand(apart(expr))"
     ],
     "language": "python",
     "metadata": {},
     "outputs": [
      {
       "html": [
        "\n",
        "      <p style=\"color:green;font-size:250%;font-weight=bold\">Success!</p>\n",
        "      "
       ],
       "output_type": "display_data"
      }
     ],
     "prompt_number": 12
    },
    {
     "cell_type": "markdown",
     "metadata": {},
     "source": [
      "## Powers"
     ]
    },
    {
     "cell_type": "markdown",
     "metadata": {},
     "source": [
      "In each exercise, apply specific simplification functions to get the desired result. "
     ]
    },
    {
     "cell_type": "code",
     "collapsed": false,
     "input": [
      "@test\n",
      "def powersimp1(expr):\n",
      "    \"\"\"\n",
      "    >>> powersimp1(exp(x)*(exp(y) + 1))\n",
      "    exp(x) + exp(x + y)\n",
      "    \"\"\"\n",
      "    return powsimp(expand(expr))"
     ],
     "language": "python",
     "metadata": {},
     "outputs": [
      {
       "html": [
        "\n",
        "      <p style=\"color:green;font-size:250%;font-weight=bold\">Success!</p>\n",
        "      "
       ],
       "output_type": "display_data"
      }
     ],
     "prompt_number": 15
    },
    {
     "cell_type": "code",
     "collapsed": false,
     "input": [
      "@test\n",
      "def powersimp2(expr):\n",
      "    \"\"\"\n",
      "    >>> powersimp2(2**x*x**x)\n",
      "    (2*x)**x\n",
      "    >>> powersimp2(x**x*x**x)\n",
      "    (x**2)**x\n",
      "    \"\"\"\n",
      "    return powsimp(expr, force=True)"
     ],
     "language": "python",
     "metadata": {},
     "outputs": [
      {
       "html": [
        "\n",
        "      <p style=\"color:green;font-size:250%;font-weight=bold\">Success!</p>\n",
        "      "
       ],
       "output_type": "display_data"
      }
     ],
     "prompt_number": 20
    },
    {
     "cell_type": "code",
     "collapsed": false,
     "input": [
      "@test\n",
      "def powersimp3(expr):\n",
      "    \"\"\"\n",
      "    >>> a, b, c = symbols('a b c', positive=True)\n",
      "    >>> powersimp3((a**b)**c)\n",
      "    >>> powersimp3(x**(b*c)*(a**b)**c)\n",
      "    \"\"\"\n",
      "    return powdenest(expr)"
     ],
     "language": "python",
     "metadata": {},
     "outputs": [
      {
       "html": [
        "\n",
        "        <p><span style=\"color:red;\">Oops!</span>  Not quite there yet...</p>\n",
        "      \n",
        "        <table>\n",
        "          <tr><th>Tried</th><th>Expected</th><th>Got</th></tr><tr><td><code><pre>a, b, c = symbols('a b c', positive=True)\n",
        "</pre></code></td><td><pre>Nothing</pre></td><td><pre style=\"color:green\">Nothing</pre></td></tr>\n",
        "        <tr><td><code><pre>powersimp3((a**b)**c)\n",
        "</pre></code></td><td><pre>Nothing</pre></td><td><pre style=\"color:red\">a**(b*c)\n",
        "</pre></td></tr>\n",
        "        <tr><td><code><pre>powersimp3(x**(b*c)*(a**b)**c)\n",
        "</pre></code></td><td><pre>Nothing</pre></td><td><pre style=\"color:red\">(a*x)**(b*c)\n",
        "</pre></td></tr>\n",
        "        </table>\n",
        "        "
       ],
       "output_type": "display_data"
      }
     ],
     "prompt_number": 25
    },
    {
     "cell_type": "code",
     "collapsed": false,
     "input": [],
     "language": "python",
     "metadata": {},
     "outputs": []
    }
   ],
   "metadata": {}
  }
 ]
}
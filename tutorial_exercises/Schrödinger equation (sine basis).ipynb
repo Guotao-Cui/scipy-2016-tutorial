{
 "metadata": {
  "name": "Schr\u00f6dinger equation (sine basis)"
 },
 "nbformat": 3,
 "nbformat_minor": 0,
 "worksheets": [
  {
   "cells": [
    {
     "cell_type": "markdown",
     "metadata": {},
     "source": [
      "We follow the Appendix 2 in [1].\n",
      "\n",
      "\n",
      "[1] Hor\u00e1\u010dek, J., Gemperle, F., & Meyer, H.-D. (1996). Calculation of dissociative attachment of electrons to diatomic molecules by the Schwinger\u2013Lanczos approach. The Journal of Chemical Physics, 104(21), 8433. doi:10.1063/1.471593"
     ]
    },
    {
     "cell_type": "markdown",
     "metadata": {},
     "source": [
      "### Basis functions"
     ]
    },
    {
     "cell_type": "code",
     "collapsed": false,
     "input": [
      "from sympy.interactive import init_printing\n",
      "init_printing()\n",
      "from sympy import sqrt, sin, pi, var, integrate, Symbol, S, Integral\n",
      "var(\"L x mu\")\n",
      "i = Symbol(\"i\", integer=True)\n",
      "j = Symbol(\"j\", integer=True)\n",
      "def phik(k, x):\n",
      "    return sqrt(2/L)*sin(k*pi*x/L)  # domain is [0, L]"
     ],
     "language": "python",
     "metadata": {},
     "outputs": [],
     "prompt_number": 1
    },
    {
     "cell_type": "markdown",
     "metadata": {},
     "source": [
      "The basis functions are $\\phi_i = \\langle x|i\\rangle$:"
     ]
    },
    {
     "cell_type": "code",
     "collapsed": false,
     "input": [
      "phik(i, x)"
     ],
     "language": "python",
     "metadata": {},
     "outputs": [
      {
       "latex": [
        "$$\\sqrt{2} \\sqrt{\\frac{1}{L}} \\sin{\\left (\\frac{\\pi i x}{L} \\right )}$$"
       ],
       "output_type": "pyout",
       "png": "[encoded data removed]",
       "prompt_number": 2,
       "text": [
        "          ___           \n",
        "  ___    \u2571 1     \u239b\u03c0\u22c5i\u22c5x\u239e\n",
        "\u2572\u2571 2 \u22c5  \u2571  \u2500 \u22c5sin\u239c\u2500\u2500\u2500\u2500\u2500\u239f\n",
        "      \u2572\u2571   L     \u239d  L  \u23a0"
       ]
      }
     ],
     "prompt_number": 2
    },
    {
     "cell_type": "markdown",
     "metadata": {},
     "source": [
      "### Operator $T$\n",
      "\n",
      "Let's calculate the operator $T_{ij}=-{1\\over 2\\mu}\\langle i|\\nabla^2|j\\rangle$.\n",
      "\n",
      "The diagonal terms $T_{ii}$ are:"
     ]
    },
    {
     "cell_type": "code",
     "collapsed": false,
     "input": [
      "-S(1)/(2*mu) * Integral(phik(i, x) * phik(i, x).diff(x, 2), (x, 0, L))"
     ],
     "language": "python",
     "metadata": {},
     "outputs": [
      {
       "latex": [
        "$$- \\frac{\\int_{0}^{L} - 2 \\frac{\\pi^{2} i^{2} \\sin^{2}{\\left (\\frac{\\pi i x}{L} \\right )}}{L^{3}}\\, dx}{2 \\mu}$$"
       ],
       "output_type": "pyout",
       "png": "[encoded data removed]",
       "prompt_number": 3,
       "text": [
        " L                        \n",
        " \u2320                        \n",
        " \u23ae             2          \n",
        " \u23ae     2  2     \u239b\u03c0\u22c5i\u22c5x\u239e   \n",
        " \u23ae -2\u22c5\u03c0 \u22c5i \u22c5sin \u239c\u2500\u2500\u2500\u2500\u2500\u239f   \n",
        " \u23ae              \u239d  L  \u23a0   \n",
        "-\u23ae \u2500\u2500\u2500\u2500\u2500\u2500\u2500\u2500\u2500\u2500\u2500\u2500\u2500\u2500\u2500\u2500\u2500\u2500\u2500\u2500 dx\n",
        " \u23ae          2             \n",
        " \u23ae         L \u22c5L           \n",
        " \u2321                        \n",
        " 0                        \n",
        "\u2500\u2500\u2500\u2500\u2500\u2500\u2500\u2500\u2500\u2500\u2500\u2500\u2500\u2500\u2500\u2500\u2500\u2500\u2500\u2500\u2500\u2500\u2500\u2500\u2500\u2500\n",
        "           2\u22c5\u03bc            "
       ]
      }
     ],
     "prompt_number": 3
    },
    {
     "cell_type": "code",
     "collapsed": false,
     "input": [
      "_.doit()"
     ],
     "language": "python",
     "metadata": {},
     "outputs": [
      {
       "latex": [
        "$$\\frac{\\pi^{2} i^{2}}{2 L^{2} \\mu}$$"
       ],
       "output_type": "pyout",
       "png": "[encoded data removed]",
       "prompt_number": 4,
       "text": [
        " 2  2 \n",
        "\u03c0 \u22c5i  \n",
        "\u2500\u2500\u2500\u2500\u2500\u2500\n",
        "   2  \n",
        "2\u22c5L \u22c5\u03bc"
       ]
      }
     ],
     "prompt_number": 4
    },
    {
     "cell_type": "markdown",
     "metadata": {},
     "source": [
      "The off diagonal terms are zero:"
     ]
    },
    {
     "cell_type": "code",
     "collapsed": false,
     "input": [
      "-S(1)/(2*mu) * Integral(phik(i, x) * phik(j, x).diff(x, 2), (x, 0, L))"
     ],
     "language": "python",
     "metadata": {},
     "outputs": [
      {
       "latex": [
        "$$- \\frac{\\int_{0}^{L} - 2 \\frac{\\pi^{2} j^{2} \\sin{\\left (\\frac{\\pi i x}{L} \\right )} \\sin{\\left (\\frac{\\pi j x}{L} \\right )}}{L^{3}}\\, dx}{2 \\mu}$$"
       ],
       "output_type": "pyout",
       "png": "[encoded data removed]",
       "prompt_number": 5,
       "text": [
        " L                                  \n",
        " \u2320                                  \n",
        " \u23ae     2  2    \u239b\u03c0\u22c5i\u22c5x\u239e    \u239b\u03c0\u22c5j\u22c5x\u239e   \n",
        " \u23ae -2\u22c5\u03c0 \u22c5j \u22c5sin\u239c\u2500\u2500\u2500\u2500\u2500\u239f\u22c5sin\u239c\u2500\u2500\u2500\u2500\u2500\u239f   \n",
        " \u23ae             \u239d  L  \u23a0    \u239d  L  \u23a0   \n",
        "-\u23ae \u2500\u2500\u2500\u2500\u2500\u2500\u2500\u2500\u2500\u2500\u2500\u2500\u2500\u2500\u2500\u2500\u2500\u2500\u2500\u2500\u2500\u2500\u2500\u2500\u2500\u2500\u2500\u2500\u2500\u2500 dx\n",
        " \u23ae               2                  \n",
        " \u23ae              L \u22c5L                \n",
        " \u2321                                  \n",
        " 0                                  \n",
        "\u2500\u2500\u2500\u2500\u2500\u2500\u2500\u2500\u2500\u2500\u2500\u2500\u2500\u2500\u2500\u2500\u2500\u2500\u2500\u2500\u2500\u2500\u2500\u2500\u2500\u2500\u2500\u2500\u2500\u2500\u2500\u2500\u2500\u2500\u2500\u2500\n",
        "                2\u22c5\u03bc                 "
       ]
      }
     ],
     "prompt_number": 5
    },
    {
     "cell_type": "code",
     "collapsed": false,
     "input": [
      "_.doit()"
     ],
     "language": "python",
     "metadata": {},
     "outputs": [
      {
       "latex": [
        "$$0$$"
       ],
       "output_type": "pyout",
       "png": "[encoded data removed]",
       "prompt_number": 6,
       "text": [
        "0"
       ]
      }
     ],
     "prompt_number": 6
    },
    {
     "cell_type": "code",
     "collapsed": false,
     "input": [
      "integrate(phik(1, x)*phik(2, x), (x, 0, L))"
     ],
     "language": "python",
     "metadata": {},
     "outputs": [
      {
       "latex": [
        "$$0$$"
       ],
       "output_type": "pyout",
       "png": "[encoded data removed]",
       "prompt_number": 7,
       "text": [
        "0"
       ]
      }
     ],
     "prompt_number": 7
    },
    {
     "cell_type": "code",
     "collapsed": false,
     "input": [
      "integrate(phik(1, x)*phik(3, x), (x, 0, L))"
     ],
     "language": "python",
     "metadata": {},
     "outputs": [
      {
       "latex": [
        "$$0$$"
       ],
       "output_type": "pyout",
       "png": "[encoded data removed]",
       "prompt_number": 8,
       "text": [
        "0"
       ]
      }
     ],
     "prompt_number": 8
    },
    {
     "cell_type": "markdown",
     "metadata": {},
     "source": [
      "Which is equal to the solution in [1]:\n",
      "$$\n",
      "T_{ij} = \\cases{{1\\over 2\\mu}\\left[i\\pi\\over L\\right]^2 &if $i=j$;\\cr 0,&otherwise.\\cr}\n",
      "$$"
     ]
    },
    {
     "cell_type": "markdown",
     "metadata": {},
     "source": [
      "### Operator $X$\n",
      "\n",
      "Let's calculate the operator $X_{ij}=\\langle i|x|j\\rangle$.\n",
      "\n",
      "The diagonal terms $X_{ii}$ are:"
     ]
    },
    {
     "cell_type": "code",
     "collapsed": false,
     "input": [
      "Integral(phik(i, x) * x * phik(i, x), (x, 0, L))"
     ],
     "language": "python",
     "metadata": {},
     "outputs": [
      {
       "latex": [
        "$$\\int_{0}^{L} 2 \\frac{x \\sin^{2}{\\left (\\frac{\\pi i x}{L} \\right )}}{L}\\, dx$$"
       ],
       "output_type": "pyout",
       "png": "[encoded data removed]",
       "prompt_number": 9,
       "text": [
        "L                   \n",
        "\u2320                   \n",
        "\u23ae        2          \n",
        "\u23ae         \u239b\u03c0\u22c5i\u22c5x\u239e   \n",
        "\u23ae 2\u22c5x\u22c5sin \u239c\u2500\u2500\u2500\u2500\u2500\u239f   \n",
        "\u23ae         \u239d  L  \u23a0   \n",
        "\u23ae \u2500\u2500\u2500\u2500\u2500\u2500\u2500\u2500\u2500\u2500\u2500\u2500\u2500\u2500\u2500 dx\n",
        "\u23ae        L          \n",
        "\u2321                   \n",
        "0                   "
       ]
      }
     ],
     "prompt_number": 9
    },
    {
     "cell_type": "code",
     "collapsed": false,
     "input": [
      "_.doit()"
     ],
     "language": "python",
     "metadata": {},
     "outputs": [
      {
       "latex": [
        "$$\\frac{1}{2} L$$"
       ],
       "output_type": "pyout",
       "png": "[encoded data removed]",
       "prompt_number": 10,
       "text": [
        "L\n",
        "\u2500\n",
        "2"
       ]
      }
     ],
     "prompt_number": 10
    },
    {
     "cell_type": "markdown",
     "metadata": {},
     "source": [
      "But notice that:"
     ]
    },
    {
     "cell_type": "code",
     "collapsed": false,
     "input": [
      "Integral(phik(i, x) * x * phik(i, x), (x, -L/2, L/2))"
     ],
     "language": "python",
     "metadata": {},
     "outputs": [
      {
       "latex": [
        "$$\\int_{- \\frac{1}{2} L}^{\\frac{1}{2} L} 2 \\frac{x \\sin^{2}{\\left (\\frac{\\pi i x}{L} \\right )}}{L}\\, dx$$"
       ],
       "output_type": "pyout",
       "png": "[encoded data removed]",
       "prompt_number": 11,
       "text": [
        "L                    \n",
        "\u2500                    \n",
        "2                    \n",
        "\u2320                    \n",
        "\u23ae         2          \n",
        "\u23ae          \u239b\u03c0\u22c5i\u22c5x\u239e   \n",
        "\u23ae  2\u22c5x\u22c5sin \u239c\u2500\u2500\u2500\u2500\u2500\u239f   \n",
        "\u23ae          \u239d  L  \u23a0   \n",
        "\u23ae  \u2500\u2500\u2500\u2500\u2500\u2500\u2500\u2500\u2500\u2500\u2500\u2500\u2500\u2500\u2500 dx\n",
        "\u23ae         L          \n",
        "\u2321                    \n",
        "-L                   \n",
        "\u2500\u2500                   \n",
        "2                    "
       ]
      }
     ],
     "prompt_number": 11
    },
    {
     "cell_type": "code",
     "collapsed": false,
     "input": [
      "_.doit()"
     ],
     "language": "python",
     "metadata": {},
     "outputs": [
      {
       "latex": [
        "$$0$$"
       ],
       "output_type": "pyout",
       "png": "[encoded data removed]",
       "prompt_number": 12,
       "text": [
        "0"
       ]
      }
     ],
     "prompt_number": 12
    },
    {
     "cell_type": "markdown",
     "metadata": {},
     "source": [
      "The off diagonal terms are:"
     ]
    },
    {
     "cell_type": "code",
     "collapsed": false,
     "input": [
      "Integral(phik(i, x) * x * phik(j, x), (x, 0, L))"
     ],
     "language": "python",
     "metadata": {},
     "outputs": [
      {
       "latex": [
        "$$\\int_{0}^{L} 2 \\frac{x \\sin{\\left (\\frac{\\pi i x}{L} \\right )} \\sin{\\left (\\frac{\\pi j x}{L} \\right )}}{L}\\, dx$$"
       ],
       "output_type": "pyout",
       "png": "[encoded data removed]",
       "prompt_number": 13,
       "text": [
        "L                             \n",
        "\u2320                             \n",
        "\u23ae        \u239b\u03c0\u22c5i\u22c5x\u239e    \u239b\u03c0\u22c5j\u22c5x\u239e   \n",
        "\u23ae 2\u22c5x\u22c5sin\u239c\u2500\u2500\u2500\u2500\u2500\u239f\u22c5sin\u239c\u2500\u2500\u2500\u2500\u2500\u239f   \n",
        "\u23ae        \u239d  L  \u23a0    \u239d  L  \u23a0   \n",
        "\u23ae \u2500\u2500\u2500\u2500\u2500\u2500\u2500\u2500\u2500\u2500\u2500\u2500\u2500\u2500\u2500\u2500\u2500\u2500\u2500\u2500\u2500\u2500\u2500\u2500\u2500 dx\n",
        "\u23ae             L               \n",
        "\u2321                             \n",
        "0                             "
       ]
      }
     ],
     "prompt_number": 13
    },
    {
     "cell_type": "code",
     "collapsed": false,
     "input": [
      "_.doit()"
     ],
     "language": "python",
     "metadata": {},
     "outputs": [
      {
       "latex": [
        "$$4 \\frac{\\left(-1\\right)^{i} \\left(-1\\right)^{j} L i j}{\\pi^{2} i^{4} - 2 \\pi^{2} i^{2} j^{2} + \\pi^{2} j^{4}} - 4 \\frac{L i j}{\\pi^{2} i^{4} - 2 \\pi^{2} i^{2} j^{2} + \\pi^{2} j^{4}}$$"
       ],
       "output_type": "pyout",
       "png": "[encoded data removed]",
       "prompt_number": 14,
       "text": [
        "         i     j                                       \n",
        "   4\u22c5(-1) \u22c5(-1) \u22c5L\u22c5i\u22c5j                4\u22c5L\u22c5i\u22c5j          \n",
        "\u2500\u2500\u2500\u2500\u2500\u2500\u2500\u2500\u2500\u2500\u2500\u2500\u2500\u2500\u2500\u2500\u2500\u2500\u2500\u2500\u2500\u2500\u2500\u2500\u2500\u2500 - \u2500\u2500\u2500\u2500\u2500\u2500\u2500\u2500\u2500\u2500\u2500\u2500\u2500\u2500\u2500\u2500\u2500\u2500\u2500\u2500\u2500\u2500\u2500\u2500\u2500\u2500\n",
        " 2  4      2  2  2    2  4    2  4      2  2  2    2  4\n",
        "\u03c0 \u22c5i  - 2\u22c5\u03c0 \u22c5i \u22c5j  + \u03c0 \u22c5j    \u03c0 \u22c5i  - 2\u22c5\u03c0 \u22c5i \u22c5j  + \u03c0 \u22c5j "
       ]
      }
     ],
     "prompt_number": 14
    },
    {
     "cell_type": "code",
     "collapsed": false,
     "input": [
      "_.simplify()"
     ],
     "language": "python",
     "metadata": {},
     "outputs": [
      {
       "latex": [
        "$$4 \\frac{L i j \\left(\\left(-1\\right)^{i + j} -1\\right)}{\\pi^{2} \\left(i^{4} - 2 i^{2} j^{2} + j^{4}\\right)}$$"
       ],
       "output_type": "pyout",
       "png": "[encoded data removed]",
       "prompt_number": 15,
       "text": [
        "        \u239b    i + j    \u239e\n",
        "4\u22c5L\u22c5i\u22c5j\u22c5\u239d(-1)      - 1\u23a0\n",
        "\u2500\u2500\u2500\u2500\u2500\u2500\u2500\u2500\u2500\u2500\u2500\u2500\u2500\u2500\u2500\u2500\u2500\u2500\u2500\u2500\u2500\u2500\u2500\n",
        "  2 \u239b 4      2  2    4\u239e\n",
        " \u03c0 \u22c5\u239di  - 2\u22c5i \u22c5j  + j \u23a0"
       ]
      }
     ],
     "prompt_number": 15
    },
    {
     "cell_type": "markdown",
     "metadata": {},
     "source": [
      "Which is equal to the solution in [1]:\n",
      "$$\n",
      "X_{ij} = \\cases{-{8ijL\\over \\pi^2 (i+j)^2(i-j)^2} &if $i+j$ is odd;\\cr 0,&otherwise.\\cr}\n",
      "$$"
     ]
    },
    {
     "cell_type": "code",
     "collapsed": false,
     "input": [],
     "language": "python",
     "metadata": {},
     "outputs": [],
     "prompt_number": 15
    }
   ],
   "metadata": {}
  }
 ]
}